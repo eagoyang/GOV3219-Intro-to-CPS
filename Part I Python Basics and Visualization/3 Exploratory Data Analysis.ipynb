{
 "cells": [
  {
   "cell_type": "markdown",
   "id": "18dbf5a8-5969-43f2-a6c3-a533da846a13",
   "metadata": {},
   "source": [
    "# Exploratory data analysis with employeedata"
   ]
  },
  {
   "cell_type": "code",
   "execution_count": 50,
   "id": "f58800ad-463f-4a0b-a0fb-145c4956a430",
   "metadata": {},
   "outputs": [],
   "source": [
    "import pandas as pd\n",
    "import numpy as np\n",
    "import matplotlib.pyplot as plt\n",
    "%matplotlib inline\n",
    "import seaborn as sns"
   ]
  },
  {
   "cell_type": "code",
   "execution_count": 51,
   "id": "30c098ac-614b-4fe8-bc59-fea6d91cb802",
   "metadata": {},
   "outputs": [
    {
     "data": {
      "text/html": [
       "<div>\n",
       "<style scoped>\n",
       "    .dataframe tbody tr th:only-of-type {\n",
       "        vertical-align: middle;\n",
       "    }\n",
       "\n",
       "    .dataframe tbody tr th {\n",
       "        vertical-align: top;\n",
       "    }\n",
       "\n",
       "    .dataframe thead th {\n",
       "        text-align: right;\n",
       "    }\n",
       "</style>\n",
       "<table border=\"1\" class=\"dataframe\">\n",
       "  <thead>\n",
       "    <tr style=\"text-align: right;\">\n",
       "      <th></th>\n",
       "      <th>id</th>\n",
       "      <th>gender</th>\n",
       "      <th>bdate</th>\n",
       "      <th>educ</th>\n",
       "      <th>jobcat</th>\n",
       "      <th>salary</th>\n",
       "      <th>salbegin</th>\n",
       "      <th>jobtime</th>\n",
       "      <th>prevexp</th>\n",
       "      <th>minority</th>\n",
       "    </tr>\n",
       "  </thead>\n",
       "  <tbody>\n",
       "    <tr>\n",
       "      <th>0</th>\n",
       "      <td>1</td>\n",
       "      <td>m</td>\n",
       "      <td>2/3/1952</td>\n",
       "      <td>15</td>\n",
       "      <td>3</td>\n",
       "      <td>57000</td>\n",
       "      <td>27000</td>\n",
       "      <td>98</td>\n",
       "      <td>144</td>\n",
       "      <td>0</td>\n",
       "    </tr>\n",
       "    <tr>\n",
       "      <th>1</th>\n",
       "      <td>2</td>\n",
       "      <td>m</td>\n",
       "      <td>5/23/1958</td>\n",
       "      <td>16</td>\n",
       "      <td>1</td>\n",
       "      <td>40200</td>\n",
       "      <td>18750</td>\n",
       "      <td>98</td>\n",
       "      <td>36</td>\n",
       "      <td>0</td>\n",
       "    </tr>\n",
       "    <tr>\n",
       "      <th>2</th>\n",
       "      <td>3</td>\n",
       "      <td>f</td>\n",
       "      <td>7/26/1929</td>\n",
       "      <td>12</td>\n",
       "      <td>1</td>\n",
       "      <td>21450</td>\n",
       "      <td>12000</td>\n",
       "      <td>98</td>\n",
       "      <td>381</td>\n",
       "      <td>0</td>\n",
       "    </tr>\n",
       "    <tr>\n",
       "      <th>3</th>\n",
       "      <td>4</td>\n",
       "      <td>f</td>\n",
       "      <td>4/15/1947</td>\n",
       "      <td>8</td>\n",
       "      <td>1</td>\n",
       "      <td>21900</td>\n",
       "      <td>13200</td>\n",
       "      <td>98</td>\n",
       "      <td>190</td>\n",
       "      <td>0</td>\n",
       "    </tr>\n",
       "    <tr>\n",
       "      <th>4</th>\n",
       "      <td>5</td>\n",
       "      <td>m</td>\n",
       "      <td>2/9/1955</td>\n",
       "      <td>15</td>\n",
       "      <td>1</td>\n",
       "      <td>45000</td>\n",
       "      <td>21000</td>\n",
       "      <td>98</td>\n",
       "      <td>138</td>\n",
       "      <td>0</td>\n",
       "    </tr>\n",
       "  </tbody>\n",
       "</table>\n",
       "</div>"
      ],
      "text/plain": [
       "   id gender      bdate  educ  jobcat  salary  salbegin  jobtime  prevexp  \\\n",
       "0   1      m   2/3/1952    15       3   57000     27000       98      144   \n",
       "1   2      m  5/23/1958    16       1   40200     18750       98       36   \n",
       "2   3      f  7/26/1929    12       1   21450     12000       98      381   \n",
       "3   4      f  4/15/1947     8       1   21900     13200       98      190   \n",
       "4   5      m   2/9/1955    15       1   45000     21000       98      138   \n",
       "\n",
       "   minority  \n",
       "0         0  \n",
       "1         0  \n",
       "2         0  \n",
       "3         0  \n",
       "4         0  "
      ]
     },
     "execution_count": 51,
     "metadata": {},
     "output_type": "execute_result"
    }
   ],
   "source": [
    "df = pd.read_csv('/Users/kaiyang/Desktop/employeedata.csv')\n",
    "df.head() "
   ]
  },
  {
   "cell_type": "markdown",
   "id": "ef75c035-da9b-463e-93e0-29e18e52e15d",
   "metadata": {},
   "source": [
    "## Basic data set Exploration"
   ]
  },
  {
   "cell_type": "markdown",
   "id": "8c3c215f-75d2-4856-aa15-4990e3e474a6",
   "metadata": {},
   "source": [
    "### 1. Shape (dimensions) of the DataFrame"
   ]
  },
  {
   "cell_type": "markdown",
   "id": "0a166bcb-67f3-4508-a605-c910b58869be",
   "metadata": {},
   "source": [
    "#### The .shape attribute of a Pandas DataFrame gives an overall structure of the data. It returns a tuple of length 2 that translates to how many rows of observations and columns the dataset has."
   ]
  },
  {
   "cell_type": "code",
   "execution_count": 52,
   "id": "a926804e-c2c3-4195-9550-9d520a8d4a38",
   "metadata": {},
   "outputs": [
    {
     "data": {
      "text/plain": [
       "(474, 10)"
      ]
     },
     "execution_count": 52,
     "metadata": {},
     "output_type": "execute_result"
    }
   ],
   "source": [
    "df.shape"
   ]
  },
  {
   "cell_type": "markdown",
   "id": "abfafdb7-5f9c-4d8e-979f-e2f72e9f443d",
   "metadata": {},
   "source": [
    "#### We can see that the dataset has 474 observations and 10 features."
   ]
  },
  {
   "cell_type": "markdown",
   "id": "817cc62b-ff76-4298-8532-d44b665ec83c",
   "metadata": {},
   "source": [
    "### 2. Data types of the various columns"
   ]
  },
  {
   "cell_type": "markdown",
   "id": "5014ba2c-83ed-406b-b087-99478cb00fe4",
   "metadata": {},
   "source": [
    "#### The DataFrame’s .dtypes attribute displays the data types of the columns as a Panda’s Series (Series means a column of values and their indices)."
   ]
  },
  {
   "cell_type": "code",
   "execution_count": 53,
   "id": "0a6c8132-076a-4d0b-97ea-d05847d70a91",
   "metadata": {},
   "outputs": [
    {
     "data": {
      "text/plain": [
       "id           int64\n",
       "gender      object\n",
       "bdate       object\n",
       "educ         int64\n",
       "jobcat       int64\n",
       "salary       int64\n",
       "salbegin     int64\n",
       "jobtime      int64\n",
       "prevexp      int64\n",
       "minority     int64\n",
       "dtype: object"
      ]
     },
     "execution_count": 53,
     "metadata": {},
     "output_type": "execute_result"
    }
   ],
   "source": [
    "df.dtypes"
   ]
  },
  {
   "cell_type": "markdown",
   "id": "52c86ea5-9f0f-4f68-8d10-20754ef4ef27",
   "metadata": {},
   "source": [
    "#### We observe that our dataset has a combination of categorical (object) and numeric (int) features. At this point, I went back to the dataset intro page for an understanding of the columns and their meanings."
   ]
  },
  {
   "cell_type": "markdown",
   "id": "f78e3852-6d30-4916-bdbf-2e53eefbdf35",
   "metadata": {},
   "source": [
    "### 3. Display a few rows"
   ]
  },
  {
   "cell_type": "markdown",
   "id": "12405ad6-bd54-4981-a5fa-fcb7e2b384dc",
   "metadata": {},
   "source": [
    "#### The Pandas DataFrame has very handy functions for displaying a few observations. data.head()displays the first 5 observations, data.tail() the last 5, and data.sample() an observation chosen randomly from the dataset. You can display 5 random observations using data.sample(5)"
   ]
  },
  {
   "cell_type": "code",
   "execution_count": 54,
   "id": "7289b0b3-031e-452b-b2f9-56772ddfa8a6",
   "metadata": {},
   "outputs": [
    {
     "data": {
      "text/html": [
       "<div>\n",
       "<style scoped>\n",
       "    .dataframe tbody tr th:only-of-type {\n",
       "        vertical-align: middle;\n",
       "    }\n",
       "\n",
       "    .dataframe tbody tr th {\n",
       "        vertical-align: top;\n",
       "    }\n",
       "\n",
       "    .dataframe thead th {\n",
       "        text-align: right;\n",
       "    }\n",
       "</style>\n",
       "<table border=\"1\" class=\"dataframe\">\n",
       "  <thead>\n",
       "    <tr style=\"text-align: right;\">\n",
       "      <th></th>\n",
       "      <th>id</th>\n",
       "      <th>gender</th>\n",
       "      <th>bdate</th>\n",
       "      <th>educ</th>\n",
       "      <th>jobcat</th>\n",
       "      <th>salary</th>\n",
       "      <th>salbegin</th>\n",
       "      <th>jobtime</th>\n",
       "      <th>prevexp</th>\n",
       "      <th>minority</th>\n",
       "    </tr>\n",
       "  </thead>\n",
       "  <tbody>\n",
       "    <tr>\n",
       "      <th>0</th>\n",
       "      <td>1</td>\n",
       "      <td>m</td>\n",
       "      <td>2/3/1952</td>\n",
       "      <td>15</td>\n",
       "      <td>3</td>\n",
       "      <td>57000</td>\n",
       "      <td>27000</td>\n",
       "      <td>98</td>\n",
       "      <td>144</td>\n",
       "      <td>0</td>\n",
       "    </tr>\n",
       "    <tr>\n",
       "      <th>1</th>\n",
       "      <td>2</td>\n",
       "      <td>m</td>\n",
       "      <td>5/23/1958</td>\n",
       "      <td>16</td>\n",
       "      <td>1</td>\n",
       "      <td>40200</td>\n",
       "      <td>18750</td>\n",
       "      <td>98</td>\n",
       "      <td>36</td>\n",
       "      <td>0</td>\n",
       "    </tr>\n",
       "    <tr>\n",
       "      <th>2</th>\n",
       "      <td>3</td>\n",
       "      <td>f</td>\n",
       "      <td>7/26/1929</td>\n",
       "      <td>12</td>\n",
       "      <td>1</td>\n",
       "      <td>21450</td>\n",
       "      <td>12000</td>\n",
       "      <td>98</td>\n",
       "      <td>381</td>\n",
       "      <td>0</td>\n",
       "    </tr>\n",
       "    <tr>\n",
       "      <th>3</th>\n",
       "      <td>4</td>\n",
       "      <td>f</td>\n",
       "      <td>4/15/1947</td>\n",
       "      <td>8</td>\n",
       "      <td>1</td>\n",
       "      <td>21900</td>\n",
       "      <td>13200</td>\n",
       "      <td>98</td>\n",
       "      <td>190</td>\n",
       "      <td>0</td>\n",
       "    </tr>\n",
       "    <tr>\n",
       "      <th>4</th>\n",
       "      <td>5</td>\n",
       "      <td>m</td>\n",
       "      <td>2/9/1955</td>\n",
       "      <td>15</td>\n",
       "      <td>1</td>\n",
       "      <td>45000</td>\n",
       "      <td>21000</td>\n",
       "      <td>98</td>\n",
       "      <td>138</td>\n",
       "      <td>0</td>\n",
       "    </tr>\n",
       "  </tbody>\n",
       "</table>\n",
       "</div>"
      ],
      "text/plain": [
       "   id gender      bdate  educ  jobcat  salary  salbegin  jobtime  prevexp  \\\n",
       "0   1      m   2/3/1952    15       3   57000     27000       98      144   \n",
       "1   2      m  5/23/1958    16       1   40200     18750       98       36   \n",
       "2   3      f  7/26/1929    12       1   21450     12000       98      381   \n",
       "3   4      f  4/15/1947     8       1   21900     13200       98      190   \n",
       "4   5      m   2/9/1955    15       1   45000     21000       98      138   \n",
       "\n",
       "   minority  \n",
       "0         0  \n",
       "1         0  \n",
       "2         0  \n",
       "3         0  \n",
       "4         0  "
      ]
     },
     "execution_count": 54,
     "metadata": {},
     "output_type": "execute_result"
    }
   ],
   "source": [
    "df.head()  # Displaying the first 5 rows (by default)"
   ]
  },
  {
   "cell_type": "code",
   "execution_count": 55,
   "id": "5a7c6e30-cf38-44e7-9642-2d1405418d76",
   "metadata": {},
   "outputs": [
    {
     "data": {
      "text/html": [
       "<div>\n",
       "<style scoped>\n",
       "    .dataframe tbody tr th:only-of-type {\n",
       "        vertical-align: middle;\n",
       "    }\n",
       "\n",
       "    .dataframe tbody tr th {\n",
       "        vertical-align: top;\n",
       "    }\n",
       "\n",
       "    .dataframe thead th {\n",
       "        text-align: right;\n",
       "    }\n",
       "</style>\n",
       "<table border=\"1\" class=\"dataframe\">\n",
       "  <thead>\n",
       "    <tr style=\"text-align: right;\">\n",
       "      <th></th>\n",
       "      <th>id</th>\n",
       "      <th>gender</th>\n",
       "      <th>bdate</th>\n",
       "      <th>educ</th>\n",
       "      <th>jobcat</th>\n",
       "      <th>salary</th>\n",
       "      <th>salbegin</th>\n",
       "      <th>jobtime</th>\n",
       "      <th>prevexp</th>\n",
       "      <th>minority</th>\n",
       "    </tr>\n",
       "  </thead>\n",
       "  <tbody>\n",
       "    <tr>\n",
       "      <th>469</th>\n",
       "      <td>470</td>\n",
       "      <td>m</td>\n",
       "      <td>1/22/1964</td>\n",
       "      <td>12</td>\n",
       "      <td>1</td>\n",
       "      <td>26250</td>\n",
       "      <td>15750</td>\n",
       "      <td>64</td>\n",
       "      <td>69</td>\n",
       "      <td>1</td>\n",
       "    </tr>\n",
       "    <tr>\n",
       "      <th>470</th>\n",
       "      <td>471</td>\n",
       "      <td>m</td>\n",
       "      <td>8/3/1966</td>\n",
       "      <td>15</td>\n",
       "      <td>1</td>\n",
       "      <td>26400</td>\n",
       "      <td>15750</td>\n",
       "      <td>64</td>\n",
       "      <td>32</td>\n",
       "      <td>1</td>\n",
       "    </tr>\n",
       "    <tr>\n",
       "      <th>471</th>\n",
       "      <td>472</td>\n",
       "      <td>m</td>\n",
       "      <td>2/21/1966</td>\n",
       "      <td>15</td>\n",
       "      <td>1</td>\n",
       "      <td>39150</td>\n",
       "      <td>15750</td>\n",
       "      <td>63</td>\n",
       "      <td>46</td>\n",
       "      <td>0</td>\n",
       "    </tr>\n",
       "    <tr>\n",
       "      <th>472</th>\n",
       "      <td>473</td>\n",
       "      <td>f</td>\n",
       "      <td>11/25/1937</td>\n",
       "      <td>12</td>\n",
       "      <td>1</td>\n",
       "      <td>21450</td>\n",
       "      <td>12750</td>\n",
       "      <td>63</td>\n",
       "      <td>139</td>\n",
       "      <td>0</td>\n",
       "    </tr>\n",
       "    <tr>\n",
       "      <th>473</th>\n",
       "      <td>474</td>\n",
       "      <td>f</td>\n",
       "      <td>11/5/1968</td>\n",
       "      <td>12</td>\n",
       "      <td>1</td>\n",
       "      <td>29400</td>\n",
       "      <td>14250</td>\n",
       "      <td>63</td>\n",
       "      <td>9</td>\n",
       "      <td>0</td>\n",
       "    </tr>\n",
       "  </tbody>\n",
       "</table>\n",
       "</div>"
      ],
      "text/plain": [
       "      id gender       bdate  educ  jobcat  salary  salbegin  jobtime  prevexp  \\\n",
       "469  470      m   1/22/1964    12       1   26250     15750       64       69   \n",
       "470  471      m    8/3/1966    15       1   26400     15750       64       32   \n",
       "471  472      m   2/21/1966    15       1   39150     15750       63       46   \n",
       "472  473      f  11/25/1937    12       1   21450     12750       63      139   \n",
       "473  474      f   11/5/1968    12       1   29400     14250       63        9   \n",
       "\n",
       "     minority  \n",
       "469         1  \n",
       "470         1  \n",
       "471         0  \n",
       "472         0  \n",
       "473         0  "
      ]
     },
     "execution_count": 55,
     "metadata": {},
     "output_type": "execute_result"
    }
   ],
   "source": [
    "df.tail()"
   ]
  },
  {
   "cell_type": "code",
   "execution_count": 56,
   "id": "5d67974e-e406-47fe-87f2-5e934505e97f",
   "metadata": {},
   "outputs": [
    {
     "data": {
      "text/html": [
       "<div>\n",
       "<style scoped>\n",
       "    .dataframe tbody tr th:only-of-type {\n",
       "        vertical-align: middle;\n",
       "    }\n",
       "\n",
       "    .dataframe tbody tr th {\n",
       "        vertical-align: top;\n",
       "    }\n",
       "\n",
       "    .dataframe thead th {\n",
       "        text-align: right;\n",
       "    }\n",
       "</style>\n",
       "<table border=\"1\" class=\"dataframe\">\n",
       "  <thead>\n",
       "    <tr style=\"text-align: right;\">\n",
       "      <th></th>\n",
       "      <th>id</th>\n",
       "      <th>gender</th>\n",
       "      <th>bdate</th>\n",
       "      <th>educ</th>\n",
       "      <th>jobcat</th>\n",
       "      <th>salary</th>\n",
       "      <th>salbegin</th>\n",
       "      <th>jobtime</th>\n",
       "      <th>prevexp</th>\n",
       "      <th>minority</th>\n",
       "    </tr>\n",
       "  </thead>\n",
       "  <tbody>\n",
       "    <tr>\n",
       "      <th>161</th>\n",
       "      <td>162</td>\n",
       "      <td>m</td>\n",
       "      <td>5/25/1961</td>\n",
       "      <td>16</td>\n",
       "      <td>3</td>\n",
       "      <td>45625</td>\n",
       "      <td>23250</td>\n",
       "      <td>86</td>\n",
       "      <td>60</td>\n",
       "      <td>0</td>\n",
       "    </tr>\n",
       "    <tr>\n",
       "      <th>380</th>\n",
       "      <td>381</td>\n",
       "      <td>m</td>\n",
       "      <td>7/15/1946</td>\n",
       "      <td>17</td>\n",
       "      <td>1</td>\n",
       "      <td>27000</td>\n",
       "      <td>18000</td>\n",
       "      <td>70</td>\n",
       "      <td>192</td>\n",
       "      <td>1</td>\n",
       "    </tr>\n",
       "    <tr>\n",
       "      <th>10</th>\n",
       "      <td>11</td>\n",
       "      <td>f</td>\n",
       "      <td>2/7/1950</td>\n",
       "      <td>16</td>\n",
       "      <td>1</td>\n",
       "      <td>30300</td>\n",
       "      <td>16500</td>\n",
       "      <td>98</td>\n",
       "      <td>143</td>\n",
       "      <td>0</td>\n",
       "    </tr>\n",
       "    <tr>\n",
       "      <th>348</th>\n",
       "      <td>349</td>\n",
       "      <td>f</td>\n",
       "      <td>3/22/1938</td>\n",
       "      <td>17</td>\n",
       "      <td>1</td>\n",
       "      <td>29100</td>\n",
       "      <td>12750</td>\n",
       "      <td>73</td>\n",
       "      <td>375</td>\n",
       "      <td>0</td>\n",
       "    </tr>\n",
       "    <tr>\n",
       "      <th>140</th>\n",
       "      <td>141</td>\n",
       "      <td>f</td>\n",
       "      <td>6/14/1966</td>\n",
       "      <td>15</td>\n",
       "      <td>1</td>\n",
       "      <td>35550</td>\n",
       "      <td>13350</td>\n",
       "      <td>88</td>\n",
       "      <td>32</td>\n",
       "      <td>0</td>\n",
       "    </tr>\n",
       "  </tbody>\n",
       "</table>\n",
       "</div>"
      ],
      "text/plain": [
       "      id gender      bdate  educ  jobcat  salary  salbegin  jobtime  prevexp  \\\n",
       "161  162      m  5/25/1961    16       3   45625     23250       86       60   \n",
       "380  381      m  7/15/1946    17       1   27000     18000       70      192   \n",
       "10    11      f   2/7/1950    16       1   30300     16500       98      143   \n",
       "348  349      f  3/22/1938    17       1   29100     12750       73      375   \n",
       "140  141      f  6/14/1966    15       1   35550     13350       88       32   \n",
       "\n",
       "     minority  \n",
       "161         0  \n",
       "380         1  \n",
       "10          0  \n",
       "348         0  \n",
       "140         0  "
      ]
     },
     "execution_count": 56,
     "metadata": {},
     "output_type": "execute_result"
    }
   ],
   "source": [
    "df.sample(5)"
   ]
  },
  {
   "cell_type": "markdown",
   "id": "87f4e3f4-03ae-4008-9f26-a7d8bf2722c9",
   "metadata": {},
   "source": [
    "### Distribution"
   ]
  },
  {
   "cell_type": "markdown",
   "id": "9a09b2b4-6b93-41ee-9e73-19b0bb8b10e9",
   "metadata": {},
   "source": [
    "#### This refers to how the values in a feature are distributed, or how often they occur. For numeric features, we’ll see how many times groups of numbers appear in a particular column, and for categorical features, the classes for each column and their frequency. We will use both graphs and actual summary statistics. The graphs enable us to get an overall idea of the distributions while the statistics give us factual numbers. These two strategies are both recommended as they complement each other."
   ]
  },
  {
   "cell_type": "markdown",
   "id": "63d33ce3-79b9-49b7-bfda-3d414a3a6fc0",
   "metadata": {},
   "source": [
    "### Numeric Features"
   ]
  },
  {
   "cell_type": "markdown",
   "id": "47cae2ec-670d-4f1e-a6d1-a8666d0b3570",
   "metadata": {},
   "source": [
    "### 4. Plot each numeric feature"
   ]
  },
  {
   "cell_type": "markdown",
   "id": "e9588cf7-28eb-4194-a85a-33a617fac5b8",
   "metadata": {},
   "source": [
    "#### We will use Pandas histogram. A histogram groups numbers into ranges (or bins) and the height of a bar shows how many numbers fall in that range. df.hist() plots a histogram of the data’s numeric features in a grid. We will also provide the figsize and xrot arguments to increase the grid size and rotate the x-axis by 45 degrees."
   ]
  },
  {
   "cell_type": "code",
   "execution_count": 57,
   "id": "e027a19f-b5b3-4cf6-abb6-8166c8c9738c",
   "metadata": {},
   "outputs": [
    {
     "data": {
      "image/png": "[encoded data removed]",
      "text/plain": [
       "<Figure size 1400x1400 with 9 Axes>"
      ]
     },
     "metadata": {},
     "output_type": "display_data"
    }
   ],
   "source": [
    "df.hist(figsize=(14,14), xrot=45)\n",
    "plt.show()"
   ]
  },
  {
   "cell_type": "markdown",
   "id": "34a89bae-7432-4345-89e4-ce903768626a",
   "metadata": {},
   "source": [
    "### 5. Summary statistics of the numerical features"
   ]
  },
  {
   "cell_type": "markdown",
   "id": "d4f89644-fdd4-47b7-a011-6d81964da9c0",
   "metadata": {},
   "source": [
    "#### Now that we have an intuitive feel of the numeric features, we will look at actual statistics using df.describe()which displays their summary statistics."
   ]
  },
  {
   "cell_type": "code",
   "execution_count": 58,
   "id": "36b104e0-175d-48ce-b09a-969f6cae24d3",
   "metadata": {},
   "outputs": [
    {
     "data": {
      "text/html": [
       "<div>\n",
       "<style scoped>\n",
       "    .dataframe tbody tr th:only-of-type {\n",
       "        vertical-align: middle;\n",
       "    }\n",
       "\n",
       "    .dataframe tbody tr th {\n",
       "        vertical-align: top;\n",
       "    }\n",
       "\n",
       "    .dataframe thead th {\n",
       "        text-align: right;\n",
       "    }\n",
       "</style>\n",
       "<table border=\"1\" class=\"dataframe\">\n",
       "  <thead>\n",
       "    <tr style=\"text-align: right;\">\n",
       "      <th></th>\n",
       "      <th>id</th>\n",
       "      <th>educ</th>\n",
       "      <th>jobcat</th>\n",
       "      <th>salary</th>\n",
       "      <th>salbegin</th>\n",
       "      <th>jobtime</th>\n",
       "      <th>prevexp</th>\n",
       "      <th>minority</th>\n",
       "    </tr>\n",
       "  </thead>\n",
       "  <tbody>\n",
       "    <tr>\n",
       "      <th>count</th>\n",
       "      <td>474.000000</td>\n",
       "      <td>474.000000</td>\n",
       "      <td>474.000000</td>\n",
       "      <td>474.000000</td>\n",
       "      <td>474.000000</td>\n",
       "      <td>474.000000</td>\n",
       "      <td>474.000000</td>\n",
       "      <td>474.000000</td>\n",
       "    </tr>\n",
       "    <tr>\n",
       "      <th>mean</th>\n",
       "      <td>237.500000</td>\n",
       "      <td>13.491561</td>\n",
       "      <td>1.411392</td>\n",
       "      <td>34419.567511</td>\n",
       "      <td>17016.086498</td>\n",
       "      <td>81.109705</td>\n",
       "      <td>95.860759</td>\n",
       "      <td>0.219409</td>\n",
       "    </tr>\n",
       "    <tr>\n",
       "      <th>std</th>\n",
       "      <td>136.976275</td>\n",
       "      <td>2.884846</td>\n",
       "      <td>0.773201</td>\n",
       "      <td>17075.661465</td>\n",
       "      <td>7870.638154</td>\n",
       "      <td>10.060945</td>\n",
       "      <td>104.586236</td>\n",
       "      <td>0.414284</td>\n",
       "    </tr>\n",
       "    <tr>\n",
       "      <th>min</th>\n",
       "      <td>1.000000</td>\n",
       "      <td>8.000000</td>\n",
       "      <td>1.000000</td>\n",
       "      <td>15750.000000</td>\n",
       "      <td>9000.000000</td>\n",
       "      <td>63.000000</td>\n",
       "      <td>0.000000</td>\n",
       "      <td>0.000000</td>\n",
       "    </tr>\n",
       "    <tr>\n",
       "      <th>25%</th>\n",
       "      <td>119.250000</td>\n",
       "      <td>12.000000</td>\n",
       "      <td>1.000000</td>\n",
       "      <td>24000.000000</td>\n",
       "      <td>12487.500000</td>\n",
       "      <td>72.000000</td>\n",
       "      <td>19.250000</td>\n",
       "      <td>0.000000</td>\n",
       "    </tr>\n",
       "    <tr>\n",
       "      <th>50%</th>\n",
       "      <td>237.500000</td>\n",
       "      <td>12.000000</td>\n",
       "      <td>1.000000</td>\n",
       "      <td>28875.000000</td>\n",
       "      <td>15000.000000</td>\n",
       "      <td>81.000000</td>\n",
       "      <td>55.000000</td>\n",
       "      <td>0.000000</td>\n",
       "    </tr>\n",
       "    <tr>\n",
       "      <th>75%</th>\n",
       "      <td>355.750000</td>\n",
       "      <td>15.000000</td>\n",
       "      <td>1.000000</td>\n",
       "      <td>36937.500000</td>\n",
       "      <td>17490.000000</td>\n",
       "      <td>90.000000</td>\n",
       "      <td>138.750000</td>\n",
       "      <td>0.000000</td>\n",
       "    </tr>\n",
       "    <tr>\n",
       "      <th>max</th>\n",
       "      <td>474.000000</td>\n",
       "      <td>21.000000</td>\n",
       "      <td>3.000000</td>\n",
       "      <td>135000.000000</td>\n",
       "      <td>79980.000000</td>\n",
       "      <td>98.000000</td>\n",
       "      <td>476.000000</td>\n",
       "      <td>1.000000</td>\n",
       "    </tr>\n",
       "  </tbody>\n",
       "</table>\n",
       "</div>"
      ],
      "text/plain": [
       "               id        educ      jobcat         salary      salbegin  \\\n",
       "count  474.000000  474.000000  474.000000     474.000000    474.000000   \n",
       "mean   237.500000   13.491561    1.411392   34419.567511  17016.086498   \n",
       "std    136.976275    2.884846    0.773201   17075.661465   7870.638154   \n",
       "min      1.000000    8.000000    1.000000   15750.000000   9000.000000   \n",
       "25%    119.250000   12.000000    1.000000   24000.000000  12487.500000   \n",
       "50%    237.500000   12.000000    1.000000   28875.000000  15000.000000   \n",
       "75%    355.750000   15.000000    1.000000   36937.500000  17490.000000   \n",
       "max    474.000000   21.000000    3.000000  135000.000000  79980.000000   \n",
       "\n",
       "          jobtime     prevexp    minority  \n",
       "count  474.000000  474.000000  474.000000  \n",
       "mean    81.109705   95.860759    0.219409  \n",
       "std     10.060945  104.586236    0.414284  \n",
       "min     63.000000    0.000000    0.000000  \n",
       "25%     72.000000   19.250000    0.000000  \n",
       "50%     81.000000   55.000000    0.000000  \n",
       "75%     90.000000  138.750000    0.000000  \n",
       "max     98.000000  476.000000    1.000000  "
      ]
     },
     "execution_count": 58,
     "metadata": {},
     "output_type": "execute_result"
    }
   ],
   "source": [
    "df.describe()"
   ]
  },
  {
   "cell_type": "markdown",
   "id": "db6b01d1-622c-48fe-976e-e4629a01f618",
   "metadata": {},
   "source": [
    "#### We can see for each numeric feature, the count of values in it, the mean value, std or standard deviation, minimum value, the 25th percentile, the 50th percentile or median, the 75th percentile, and the maximum value."
   ]
  },
  {
   "cell_type": "markdown",
   "id": "25c24bf4-30ff-4bab-96c7-cd1e83b9aa76",
   "metadata": {},
   "source": [
    "### Categorical features"
   ]
  },
  {
   "cell_type": "markdown",
   "id": "865a80d4-3978-4a13-84ae-4ab984a7649e",
   "metadata": {},
   "source": [
    "### 6. Summary statistics of the categorical features"
   ]
  },
  {
   "cell_type": "markdown",
   "id": "feeb4981-476c-4ed8-8be5-d5f8aabc8c7e",
   "metadata": {},
   "source": [
    "#### For categorical features, it is important to show the summary statistics before we plot graphs because some features have a lot of unique classes. To check the summary statistics of only the categorical features, we will use df.describe(include=’object’)"
   ]
  },
  {
   "cell_type": "code",
   "execution_count": 59,
   "id": "8f266132-018a-48cd-93ee-e5cac06e6482",
   "metadata": {},
   "outputs": [
    {
     "data": {
      "text/html": [
       "<div>\n",
       "<style scoped>\n",
       "    .dataframe tbody tr th:only-of-type {\n",
       "        vertical-align: middle;\n",
       "    }\n",
       "\n",
       "    .dataframe tbody tr th {\n",
       "        vertical-align: top;\n",
       "    }\n",
       "\n",
       "    .dataframe thead th {\n",
       "        text-align: right;\n",
       "    }\n",
       "</style>\n",
       "<table border=\"1\" class=\"dataframe\">\n",
       "  <thead>\n",
       "    <tr style=\"text-align: right;\">\n",
       "      <th></th>\n",
       "      <th>gender</th>\n",
       "      <th>bdate</th>\n",
       "    </tr>\n",
       "  </thead>\n",
       "  <tbody>\n",
       "    <tr>\n",
       "      <th>count</th>\n",
       "      <td>474</td>\n",
       "      <td>474</td>\n",
       "    </tr>\n",
       "    <tr>\n",
       "      <th>unique</th>\n",
       "      <td>2</td>\n",
       "      <td>462</td>\n",
       "    </tr>\n",
       "    <tr>\n",
       "      <th>top</th>\n",
       "      <td>m</td>\n",
       "      <td>7/18/1962</td>\n",
       "    </tr>\n",
       "    <tr>\n",
       "      <th>freq</th>\n",
       "      <td>258</td>\n",
       "      <td>2</td>\n",
       "    </tr>\n",
       "  </tbody>\n",
       "</table>\n",
       "</div>"
      ],
      "text/plain": [
       "       gender      bdate\n",
       "count     474        474\n",
       "unique      2        462\n",
       "top         m  7/18/1962\n",
       "freq      258          2"
      ]
     },
     "execution_count": 59,
     "metadata": {},
     "output_type": "execute_result"
    }
   ],
   "source": [
    "df.describe(include='object')"
   ]
  },
  {
   "cell_type": "markdown",
   "id": "3a31a35c-88be-4696-a9ba-dd26efb75564",
   "metadata": {},
   "source": [
    "#### This table is a bit different from the one for numeric features. Here, we get the count of the values of each feature, the number of unique classes, the top most frequent class, and how frequently that class occurs in the data set."
   ]
  },
  {
   "cell_type": "markdown",
   "id": "4d3f8487-cd55-4d37-96d4-1ec2621fc360",
   "metadata": {},
   "source": [
    "### 7. Plot each categorical feature"
   ]
  },
  {
   "cell_type": "code",
   "execution_count": 60,
   "id": "b53c4d39-574f-4130-a89b-5e8d7f72794e",
   "metadata": {},
   "outputs": [
    {
     "data": {
      "image/png": "[encoded data removed]",
      "text/plain": [
       "<Figure size 640x480 with 1 Axes>"
      ]
     },
     "metadata": {},
     "output_type": "display_data"
    }
   ],
   "source": [
    "# Single categorical variable\n",
    "sns.set_theme(style=\"darkgrid\")\n",
    "sns.countplot(x=\"gender\", hue=\"gender\", data=df,palette=\"spring\")\n",
    "plt.show()"
   ]
  },
  {
   "cell_type": "code",
   "execution_count": 61,
   "id": "3a48b060-7d66-4e2e-a5bc-321f963545c7",
   "metadata": {},
   "outputs": [
    {
     "data": {
      "image/png": "[encoded data removed]",
      "text/plain": [
       "<Figure size 640x480 with 1 Axes>"
      ]
     },
     "metadata": {},
     "output_type": "display_data"
    }
   ],
   "source": [
    "# Two categorical variables\n",
    "sns.set_theme(style=\"darkgrid\")\n",
    "sns.countplot(x=\"gender\", hue=\"minority\", data=df,palette=\"spring\")\n",
    "plt.show()"
   ]
  },
  {
   "cell_type": "code",
   "execution_count": 62,
   "id": "164f98f4-0d12-433f-a524-9b07d3504ce5",
   "metadata": {},
   "outputs": [
    {
     "data": {
      "image/png": "[encoded data removed]",
      "text/plain": [
       "<Figure size 640x480 with 1 Axes>"
      ]
     },
     "metadata": {},
     "output_type": "display_data"
    }
   ],
   "source": [
    "# change to horizontal countplot\n",
    "sns.set_theme(style=\"darkgrid\")\n",
    "sns.countplot(y=\"gender\", hue=\"gender\", data=df, palette=\"spring\")\n",
    "plt.show()"
   ]
  },
  {
   "cell_type": "code",
   "execution_count": 63,
   "id": "bf5953e2-bdb5-4c71-9068-756226e97b74",
   "metadata": {},
   "outputs": [
    {
     "data": {
      "image/png": "[encoded data removed]",
      "text/plain": [
       "<Figure size 640x480 with 1 Axes>"
      ]
     },
     "metadata": {},
     "output_type": "display_data"
    }
   ],
   "source": [
    "sns.set_theme(style=\"darkgrid\")\n",
    "sns.countplot(y=\"gender\", hue=\"minority\", data=df, palette=\"spring\")\n",
    "plt.show()"
   ]
  },
  {
   "cell_type": "markdown",
   "id": "52d7965d-013f-4f6f-943d-f47989dcd9e0",
   "metadata": {},
   "source": [
    "### Grouping and segmentation"
   ]
  },
  {
   "cell_type": "markdown",
   "id": "9c0f4634-5d58-4b65-a3d2-ba03f1d7505e",
   "metadata": {},
   "source": [
    "#### Segmentation allows us to cut the data and observe the relationship between categorical and numeric features."
   ]
  },
  {
   "cell_type": "markdown",
   "id": "d3943848-b20a-4925-8f7b-2544f86ec378",
   "metadata": {},
   "source": [
    "### 8. Segment the target variable by categorical features."
   ]
  },
  {
   "cell_type": "code",
   "execution_count": 64,
   "id": "3169b99f-36d9-4196-830c-0ac1a97d4596",
   "metadata": {},
   "outputs": [
    {
     "data": {
      "image/png": "[encoded data removed]",
      "text/plain": [
       "<Figure size 640x480 with 1 Axes>"
      ]
     },
     "metadata": {},
     "output_type": "display_data"
    }
   ],
   "source": [
    "sns.boxplot(x= \"gender\", y=\"salary\", data=df)\n",
    "plt.show()"
   ]
  },
  {
   "cell_type": "code",
   "execution_count": 65,
   "id": "8aa3ca66-eeb9-44ea-87c4-0483546dedc6",
   "metadata": {},
   "outputs": [
    {
     "data": {
      "image/png": "[encoded data removed]",
      "text/plain": [
       "<Figure size 640x480 with 1 Axes>"
      ]
     },
     "metadata": {},
     "output_type": "display_data"
    }
   ],
   "source": [
    "sns.boxplot(y= \"gender\", x=\"salary\", data=df)\n",
    "plt.show()"
   ]
  },
  {
   "cell_type": "markdown",
   "id": "4650f61c-50b5-4a0d-8896-a3eb548c350e",
   "metadata": {},
   "source": [
    "### 9. Group numeric features by each categorical feature"
   ]
  },
  {
   "cell_type": "markdown",
   "id": "fedb0b94-f635-4ae4-ae84-954300710d14",
   "metadata": {},
   "source": [
    "#### Here we will see how all the other numeric features, not just salary, change with each categorical feature by summarizing the numeric features across the gender (classes). We use the Dataframe’s groupby function to group the data by a category and calculate a metric (such as mean, median, min, std, etc) across the various numeric features."
   ]
  },
  {
   "cell_type": "code",
   "execution_count": 66,
   "id": "4aafe12b-6f11-4796-8ccf-096ca525b717",
   "metadata": {},
   "outputs": [
    {
     "data": {
      "text/plain": [
       "gender\n",
       "f    26031.921296\n",
       "m    41441.782946\n",
       "Name: salary, dtype: float64"
      ]
     },
     "metadata": {},
     "output_type": "display_data"
    }
   ],
   "source": [
    "display(df.groupby(\"gender\")['salary'].mean())"
   ]
  },
  {
   "cell_type": "code",
   "execution_count": 67,
   "id": "c553063b-9fd1-464e-8777-601cedfced25",
   "metadata": {},
   "outputs": [
    {
     "data": {
      "text/html": [
       "<div>\n",
       "<style scoped>\n",
       "    .dataframe tbody tr th:only-of-type {\n",
       "        vertical-align: middle;\n",
       "    }\n",
       "\n",
       "    .dataframe tbody tr th {\n",
       "        vertical-align: top;\n",
       "    }\n",
       "\n",
       "    .dataframe thead th {\n",
       "        text-align: right;\n",
       "    }\n",
       "</style>\n",
       "<table border=\"1\" class=\"dataframe\">\n",
       "  <thead>\n",
       "    <tr style=\"text-align: right;\">\n",
       "      <th></th>\n",
       "      <th>id</th>\n",
       "      <th>educ</th>\n",
       "      <th>jobcat</th>\n",
       "      <th>salary</th>\n",
       "      <th>salbegin</th>\n",
       "      <th>jobtime</th>\n",
       "      <th>prevexp</th>\n",
       "      <th>minority</th>\n",
       "    </tr>\n",
       "    <tr>\n",
       "      <th>gender</th>\n",
       "      <th></th>\n",
       "      <th></th>\n",
       "      <th></th>\n",
       "      <th></th>\n",
       "      <th></th>\n",
       "      <th></th>\n",
       "      <th></th>\n",
       "      <th></th>\n",
       "    </tr>\n",
       "  </thead>\n",
       "  <tbody>\n",
       "    <tr>\n",
       "      <th>f</th>\n",
       "      <td>249.384259</td>\n",
       "      <td>12.370370</td>\n",
       "      <td>1.092593</td>\n",
       "      <td>26031.921296</td>\n",
       "      <td>13091.967593</td>\n",
       "      <td>80.37963</td>\n",
       "      <td>77.037037</td>\n",
       "      <td>0.185185</td>\n",
       "    </tr>\n",
       "    <tr>\n",
       "      <th>m</th>\n",
       "      <td>227.550388</td>\n",
       "      <td>14.430233</td>\n",
       "      <td>1.678295</td>\n",
       "      <td>41441.782946</td>\n",
       "      <td>20301.395349</td>\n",
       "      <td>81.72093</td>\n",
       "      <td>111.620155</td>\n",
       "      <td>0.248062</td>\n",
       "    </tr>\n",
       "  </tbody>\n",
       "</table>\n",
       "</div>"
      ],
      "text/plain": [
       "                id       educ    jobcat        salary      salbegin   jobtime  \\\n",
       "gender                                                                          \n",
       "f       249.384259  12.370370  1.092593  26031.921296  13091.967593  80.37963   \n",
       "m       227.550388  14.430233  1.678295  41441.782946  20301.395349  81.72093   \n",
       "\n",
       "           prevexp  minority  \n",
       "gender                        \n",
       "f        77.037037  0.185185  \n",
       "m       111.620155  0.248062  "
      ]
     },
     "metadata": {},
     "output_type": "display_data"
    }
   ],
   "source": [
    "display(df.groupby(\"gender\")[[\"id\",\t\"educ\",\t\"jobcat\", \"salary\", \"salbegin\", \"jobtime\", \"prevexp\", \"minority\"]].mean())"
   ]
  },
  {
   "cell_type": "code",
   "execution_count": 76,
   "id": "8d12bf8a-a86c-41d8-a93e-e50014bb3431",
   "metadata": {},
   "outputs": [
    {
     "data": {
      "text/html": [
       "<div>\n",
       "<style scoped>\n",
       "    .dataframe tbody tr th:only-of-type {\n",
       "        vertical-align: middle;\n",
       "    }\n",
       "\n",
       "    .dataframe tbody tr th {\n",
       "        vertical-align: top;\n",
       "    }\n",
       "\n",
       "    .dataframe thead th {\n",
       "        text-align: right;\n",
       "    }\n",
       "</style>\n",
       "<table border=\"1\" class=\"dataframe\">\n",
       "  <thead>\n",
       "    <tr style=\"text-align: right;\">\n",
       "      <th></th>\n",
       "      <th>educ</th>\n",
       "      <th>jobcat</th>\n",
       "      <th>salary</th>\n",
       "      <th>salbegin</th>\n",
       "      <th>jobtime</th>\n",
       "      <th>prevexp</th>\n",
       "      <th>minority</th>\n",
       "    </tr>\n",
       "    <tr>\n",
       "      <th>gender</th>\n",
       "      <th></th>\n",
       "      <th></th>\n",
       "      <th></th>\n",
       "      <th></th>\n",
       "      <th></th>\n",
       "      <th></th>\n",
       "      <th></th>\n",
       "    </tr>\n",
       "  </thead>\n",
       "  <tbody>\n",
       "    <tr>\n",
       "      <th>f</th>\n",
       "      <td>12.370370</td>\n",
       "      <td>1.092593</td>\n",
       "      <td>26031.921296</td>\n",
       "      <td>13091.967593</td>\n",
       "      <td>80.37963</td>\n",
       "      <td>77.037037</td>\n",
       "      <td>0.185185</td>\n",
       "    </tr>\n",
       "    <tr>\n",
       "      <th>m</th>\n",
       "      <td>14.430233</td>\n",
       "      <td>1.678295</td>\n",
       "      <td>41441.782946</td>\n",
       "      <td>20301.395349</td>\n",
       "      <td>81.72093</td>\n",
       "      <td>111.620155</td>\n",
       "      <td>0.248062</td>\n",
       "    </tr>\n",
       "  </tbody>\n",
       "</table>\n",
       "</div>"
      ],
      "text/plain": [
       "             educ    jobcat        salary      salbegin   jobtime     prevexp  \\\n",
       "gender                                                                          \n",
       "f       12.370370  1.092593  26031.921296  13091.967593  80.37963   77.037037   \n",
       "m       14.430233  1.678295  41441.782946  20301.395349  81.72093  111.620155   \n",
       "\n",
       "        minority  \n",
       "gender            \n",
       "f       0.185185  \n",
       "m       0.248062  "
      ]
     },
     "metadata": {},
     "output_type": "display_data"
    }
   ],
   "source": [
    "df_without_bdate = df.drop(columns=['bdate','id'])\n",
    "\n",
    "display(df_without_bdate.groupby(\"gender\").mean())\n",
    "\n",
    "# this code aims to caculate the means of all the columns in the dataset. it returns an error because in the dataset, there is a column called \"bdate\" which is a date column, not a numerical value. so we need to exclude this column.   \n"
   ]
  },
  {
   "cell_type": "markdown",
   "id": "0f7e1b7e-0dd7-4ab9-8ac6-1b13551d40e3",
   "metadata": {},
   "source": [
    "### Relationships between numeric features and other numeric features"
   ]
  },
  {
   "cell_type": "markdown",
   "id": "865a826b-24e8-4fad-86ca-b005f1858d67",
   "metadata": {},
   "source": [
    "### 10. Correlations matrix for the different numerical features"
   ]
  },
  {
   "cell_type": "markdown",
   "id": "39cf0ceb-b6f6-4958-923b-c402a0fb3e04",
   "metadata": {},
   "source": [
    "#### A correlation is a value between -1 and 1 that amounts to how closely values of two separate features move simultaneously. A positive correlation means that as one feature increases the other one also increases, while a negative correlation means one feature increases as the other decreases. Correlations close to 0 indicate a weak relationship while closer to -1 or 1 signifies a strong relationship."
   ]
  },
  {
   "cell_type": "markdown",
   "id": "61333180-5a06-4d55-8822-405d6c029ff3",
   "metadata": {},
   "source": [
    "#### We will use df.corr() to calculate the correlations between the numeric features and it returns a DataFrame."
   ]
  },
  {
   "cell_type": "code",
   "execution_count": 77,
   "id": "234d881e-9f07-4da4-b81c-107246070a25",
   "metadata": {},
   "outputs": [
    {
     "data": {
      "text/html": [
       "<div>\n",
       "<style scoped>\n",
       "    .dataframe tbody tr th:only-of-type {\n",
       "        vertical-align: middle;\n",
       "    }\n",
       "\n",
       "    .dataframe tbody tr th {\n",
       "        vertical-align: top;\n",
       "    }\n",
       "\n",
       "    .dataframe thead th {\n",
       "        text-align: right;\n",
       "    }\n",
       "</style>\n",
       "<table border=\"1\" class=\"dataframe\">\n",
       "  <thead>\n",
       "    <tr style=\"text-align: right;\">\n",
       "      <th></th>\n",
       "      <th>gender</th>\n",
       "      <th>educ</th>\n",
       "      <th>jobcat</th>\n",
       "      <th>salary</th>\n",
       "      <th>salbegin</th>\n",
       "      <th>jobtime</th>\n",
       "      <th>prevexp</th>\n",
       "      <th>minority</th>\n",
       "    </tr>\n",
       "  </thead>\n",
       "  <tbody>\n",
       "    <tr>\n",
       "      <th>0</th>\n",
       "      <td>0</td>\n",
       "      <td>15</td>\n",
       "      <td>3</td>\n",
       "      <td>57000</td>\n",
       "      <td>27000</td>\n",
       "      <td>98</td>\n",
       "      <td>144</td>\n",
       "      <td>0</td>\n",
       "    </tr>\n",
       "    <tr>\n",
       "      <th>1</th>\n",
       "      <td>0</td>\n",
       "      <td>16</td>\n",
       "      <td>1</td>\n",
       "      <td>40200</td>\n",
       "      <td>18750</td>\n",
       "      <td>98</td>\n",
       "      <td>36</td>\n",
       "      <td>0</td>\n",
       "    </tr>\n",
       "    <tr>\n",
       "      <th>2</th>\n",
       "      <td>1</td>\n",
       "      <td>12</td>\n",
       "      <td>1</td>\n",
       "      <td>21450</td>\n",
       "      <td>12000</td>\n",
       "      <td>98</td>\n",
       "      <td>381</td>\n",
       "      <td>0</td>\n",
       "    </tr>\n",
       "    <tr>\n",
       "      <th>3</th>\n",
       "      <td>1</td>\n",
       "      <td>8</td>\n",
       "      <td>1</td>\n",
       "      <td>21900</td>\n",
       "      <td>13200</td>\n",
       "      <td>98</td>\n",
       "      <td>190</td>\n",
       "      <td>0</td>\n",
       "    </tr>\n",
       "    <tr>\n",
       "      <th>4</th>\n",
       "      <td>0</td>\n",
       "      <td>15</td>\n",
       "      <td>1</td>\n",
       "      <td>45000</td>\n",
       "      <td>21000</td>\n",
       "      <td>98</td>\n",
       "      <td>138</td>\n",
       "      <td>0</td>\n",
       "    </tr>\n",
       "  </tbody>\n",
       "</table>\n",
       "</div>"
      ],
      "text/plain": [
       "   gender  educ  jobcat  salary  salbegin  jobtime  prevexp  minority\n",
       "0       0    15       3   57000     27000       98      144         0\n",
       "1       0    16       1   40200     18750       98       36         0\n",
       "2       1    12       1   21450     12000       98      381         0\n",
       "3       1     8       1   21900     13200       98      190         0\n",
       "4       0    15       1   45000     21000       98      138         0"
      ]
     },
     "execution_count": 77,
     "metadata": {},
     "output_type": "execute_result"
    }
   ],
   "source": [
    "df_without_bdate['gender'] = np.where(df_without_bdate['gender'] == \"f\", 1, 0)\n",
    "df_without_bdate.head()\n"
   ]
  },
  {
   "cell_type": "code",
   "execution_count": 90,
   "id": "f7e0073b",
   "metadata": {},
   "outputs": [
    {
     "data": {
      "text/html": [
       "<div>\n",
       "<style scoped>\n",
       "    .dataframe tbody tr th:only-of-type {\n",
       "        vertical-align: middle;\n",
       "    }\n",
       "\n",
       "    .dataframe tbody tr th {\n",
       "        vertical-align: top;\n",
       "    }\n",
       "\n",
       "    .dataframe thead th {\n",
       "        text-align: right;\n",
       "    }\n",
       "</style>\n",
       "<table border=\"1\" class=\"dataframe\">\n",
       "  <thead>\n",
       "    <tr style=\"text-align: right;\">\n",
       "      <th></th>\n",
       "      <th>gender</th>\n",
       "      <th>educ</th>\n",
       "      <th>jobcat</th>\n",
       "      <th>salary</th>\n",
       "      <th>salbegin</th>\n",
       "      <th>jobtime</th>\n",
       "      <th>prevexp</th>\n",
       "      <th>minority</th>\n",
       "    </tr>\n",
       "  </thead>\n",
       "  <tbody>\n",
       "    <tr>\n",
       "      <th>gender</th>\n",
       "      <td>1.00</td>\n",
       "      <td>-0.36</td>\n",
       "      <td>-0.38</td>\n",
       "      <td>-0.45</td>\n",
       "      <td>-0.46</td>\n",
       "      <td>-0.07</td>\n",
       "      <td>-0.16</td>\n",
       "      <td>-0.08</td>\n",
       "    </tr>\n",
       "    <tr>\n",
       "      <th>educ</th>\n",
       "      <td>-0.36</td>\n",
       "      <td>1.00</td>\n",
       "      <td>0.51</td>\n",
       "      <td>0.66</td>\n",
       "      <td>0.63</td>\n",
       "      <td>0.05</td>\n",
       "      <td>-0.25</td>\n",
       "      <td>-0.13</td>\n",
       "    </tr>\n",
       "    <tr>\n",
       "      <th>jobcat</th>\n",
       "      <td>-0.38</td>\n",
       "      <td>0.51</td>\n",
       "      <td>1.00</td>\n",
       "      <td>0.78</td>\n",
       "      <td>0.75</td>\n",
       "      <td>0.01</td>\n",
       "      <td>0.06</td>\n",
       "      <td>-0.14</td>\n",
       "    </tr>\n",
       "    <tr>\n",
       "      <th>salary</th>\n",
       "      <td>-0.45</td>\n",
       "      <td>0.66</td>\n",
       "      <td>0.78</td>\n",
       "      <td>1.00</td>\n",
       "      <td>0.88</td>\n",
       "      <td>0.08</td>\n",
       "      <td>-0.10</td>\n",
       "      <td>-0.18</td>\n",
       "    </tr>\n",
       "    <tr>\n",
       "      <th>salbegin</th>\n",
       "      <td>-0.46</td>\n",
       "      <td>0.63</td>\n",
       "      <td>0.75</td>\n",
       "      <td>0.88</td>\n",
       "      <td>1.00</td>\n",
       "      <td>-0.02</td>\n",
       "      <td>0.05</td>\n",
       "      <td>-0.16</td>\n",
       "    </tr>\n",
       "    <tr>\n",
       "      <th>jobtime</th>\n",
       "      <td>-0.07</td>\n",
       "      <td>0.05</td>\n",
       "      <td>0.01</td>\n",
       "      <td>0.08</td>\n",
       "      <td>-0.02</td>\n",
       "      <td>1.00</td>\n",
       "      <td>0.00</td>\n",
       "      <td>0.05</td>\n",
       "    </tr>\n",
       "    <tr>\n",
       "      <th>prevexp</th>\n",
       "      <td>-0.16</td>\n",
       "      <td>-0.25</td>\n",
       "      <td>0.06</td>\n",
       "      <td>-0.10</td>\n",
       "      <td>0.05</td>\n",
       "      <td>0.00</td>\n",
       "      <td>1.00</td>\n",
       "      <td>0.14</td>\n",
       "    </tr>\n",
       "    <tr>\n",
       "      <th>minority</th>\n",
       "      <td>-0.08</td>\n",
       "      <td>-0.13</td>\n",
       "      <td>-0.14</td>\n",
       "      <td>-0.18</td>\n",
       "      <td>-0.16</td>\n",
       "      <td>0.05</td>\n",
       "      <td>0.14</td>\n",
       "      <td>1.00</td>\n",
       "    </tr>\n",
       "  </tbody>\n",
       "</table>\n",
       "</div>"
      ],
      "text/plain": [
       "          gender  educ  jobcat  salary  salbegin  jobtime  prevexp  minority\n",
       "gender      1.00 -0.36   -0.38   -0.45     -0.46    -0.07    -0.16     -0.08\n",
       "educ       -0.36  1.00    0.51    0.66      0.63     0.05    -0.25     -0.13\n",
       "jobcat     -0.38  0.51    1.00    0.78      0.75     0.01     0.06     -0.14\n",
       "salary     -0.45  0.66    0.78    1.00      0.88     0.08    -0.10     -0.18\n",
       "salbegin   -0.46  0.63    0.75    0.88      1.00    -0.02     0.05     -0.16\n",
       "jobtime    -0.07  0.05    0.01    0.08     -0.02     1.00     0.00      0.05\n",
       "prevexp    -0.16 -0.25    0.06   -0.10      0.05     0.00     1.00      0.14\n",
       "minority   -0.08 -0.13   -0.14   -0.18     -0.16     0.05     0.14      1.00"
      ]
     },
     "execution_count": 90,
     "metadata": {},
     "output_type": "execute_result"
    }
   ],
   "source": [
    "\n",
    "cormat = df_without_bdate.corr()\n",
    "round(cormat, 2)"
   ]
  },
  {
   "cell_type": "markdown",
   "id": "565c5d55-7553-465c-b4f3-96654ba021d7",
   "metadata": {},
   "source": [
    "#### This might not mean much now, so let us plot a heatmap to visualize the correlations."
   ]
  },
  {
   "cell_type": "markdown",
   "id": "e6d2cde8-b767-4a1a-9c65-469a57f87025",
   "metadata": {},
   "source": [
    "### 11. Heatmap of the correlations"
   ]
  },
  {
   "cell_type": "markdown",
   "id": "fcff28b1-cd90-4034-a2e7-59a8cbaf4476",
   "metadata": {},
   "source": [
    "#### We will use a Seaborn heatmap to plot the grid as a rectangular color-coded matrix. We use sns.heatmap(corrs, cmap=’RdBu_r’,annot=True)."
   ]
  },
  {
   "cell_type": "markdown",
   "id": "7b798aca-d4d7-4f5d-a45e-73079b35c4fa",
   "metadata": {},
   "source": [
    "#### The cmap=‘RdBu_r’ argument tells the heatmap what colour palette to use. A high positive correlation appears as dark red and a high negative correlation as dark blue. Closer to white signifies a weak relationship. annot=True includes the values of the correlations in the boxes for easier reading and interpretation."
   ]
  },
  {
   "cell_type": "markdown",
   "id": "df476f5a-b1e7-47b2-9b4c-1bfbeafceef4",
   "metadata": {},
   "source": [
    "#### We look out for strongly correlated features: either dark red (positive) or dark blue (negative)."
   ]
  },
  {
   "cell_type": "code",
   "execution_count": 94,
   "id": "1a8a824e-23b9-435d-a1f7-7ad27930829d",
   "metadata": {},
   "outputs": [
    {
     "data": {
      "image/png": "[encoded data removed]",
      "text/plain": [
       "<Figure size 1000x800 with 2 Axes>"
      ]
     },
     "metadata": {},
     "output_type": "display_data"
    }
   ],
   "source": [
    "plt.figure(figsize=(10,8))\n",
    "sns.heatmap(cormat , cmap='RdBu_r', annot=True);\n",
    "plt.show()"
   ]
  },
  {
   "cell_type": "markdown",
   "id": "a07d41b5-6286-4e23-bdb2-2333e0bd58e3",
   "metadata": {},
   "source": [
    "#### For more information, see: \"11 Essential Code Blocks for Complete EDA (Exploratory Data Analysis)-Regression Task\": https://towardsdatascience.com/11-simple-code-blocks-for-complete-exploratory-data-analysis-eda-67c2817f56cd."
   ]
  },
  {
   "cell_type": "markdown",
   "id": "5739aaca-d6a4-4fa9-89a6-a543ff7b6abc",
   "metadata": {},
   "source": [
    "## The end, see you next week!"
   ]
  },
  {
   "cell_type": "code",
   "execution_count": null,
   "id": "06418445-8d4a-4014-97cf-dfabb9840bad",
   "metadata": {},
   "outputs": [],
   "source": []
  }
 ],
 "metadata": {
  "kernelspec": {
   "display_name": "base",
   "language": "python",
   "name": "python3"
  },
  "language_info": {
   "codemirror_mode": {
    "name": "ipython",
    "version": 3
   },
   "file_extension": ".py",
   "mimetype": "text/x-python",
   "name": "python",
   "nbconvert_exporter": "python",
   "pygments_lexer": "ipython3",
   "version": "3.12.7"
  }
 },
 "nbformat": 4,
 "nbformat_minor": 5
}
