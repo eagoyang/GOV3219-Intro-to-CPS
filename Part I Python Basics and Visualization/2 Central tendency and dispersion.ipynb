{
 "cells": [
  {
   "cell_type": "markdown",
   "id": "a4f0e3bd-ee15-4af8-836e-f205a2848023",
   "metadata": {},
   "source": [
    "# 2 Central tendency and dispersion"
   ]
  },
  {
   "cell_type": "code",
   "execution_count": 19,
   "id": "bac2b75d-5816-45da-9a91-8644bd3a129d",
   "metadata": {},
   "outputs": [],
   "source": [
    "import pandas as pd\n",
    "import numpy as np"
   ]
  },
  {
   "cell_type": "code",
   "execution_count": 20,
   "id": "1f24d7a9-0604-4576-bf9a-481ad1a1b3f2",
   "metadata": {},
   "outputs": [
    {
     "data": {
      "text/html": [
       "<div>\n",
       "<style scoped>\n",
       "    .dataframe tbody tr th:only-of-type {\n",
       "        vertical-align: middle;\n",
       "    }\n",
       "\n",
       "    .dataframe tbody tr th {\n",
       "        vertical-align: top;\n",
       "    }\n",
       "\n",
       "    .dataframe thead th {\n",
       "        text-align: right;\n",
       "    }\n",
       "</style>\n",
       "<table border=\"1\" class=\"dataframe\">\n",
       "  <thead>\n",
       "    <tr style=\"text-align: right;\">\n",
       "      <th></th>\n",
       "      <th>id</th>\n",
       "      <th>gender</th>\n",
       "      <th>bdate</th>\n",
       "      <th>educ</th>\n",
       "      <th>jobcat</th>\n",
       "      <th>salary</th>\n",
       "      <th>salbegin</th>\n",
       "      <th>jobtime</th>\n",
       "      <th>prevexp</th>\n",
       "      <th>minority</th>\n",
       "    </tr>\n",
       "  </thead>\n",
       "  <tbody>\n",
       "    <tr>\n",
       "      <th>0</th>\n",
       "      <td>1</td>\n",
       "      <td>m</td>\n",
       "      <td>2/3/1952</td>\n",
       "      <td>15</td>\n",
       "      <td>3</td>\n",
       "      <td>57000</td>\n",
       "      <td>27000</td>\n",
       "      <td>98</td>\n",
       "      <td>144</td>\n",
       "      <td>0</td>\n",
       "    </tr>\n",
       "    <tr>\n",
       "      <th>1</th>\n",
       "      <td>2</td>\n",
       "      <td>m</td>\n",
       "      <td>5/23/1958</td>\n",
       "      <td>16</td>\n",
       "      <td>1</td>\n",
       "      <td>40200</td>\n",
       "      <td>18750</td>\n",
       "      <td>98</td>\n",
       "      <td>36</td>\n",
       "      <td>0</td>\n",
       "    </tr>\n",
       "    <tr>\n",
       "      <th>2</th>\n",
       "      <td>3</td>\n",
       "      <td>f</td>\n",
       "      <td>7/26/1929</td>\n",
       "      <td>12</td>\n",
       "      <td>1</td>\n",
       "      <td>21450</td>\n",
       "      <td>12000</td>\n",
       "      <td>98</td>\n",
       "      <td>381</td>\n",
       "      <td>0</td>\n",
       "    </tr>\n",
       "    <tr>\n",
       "      <th>3</th>\n",
       "      <td>4</td>\n",
       "      <td>f</td>\n",
       "      <td>4/15/1947</td>\n",
       "      <td>8</td>\n",
       "      <td>1</td>\n",
       "      <td>21900</td>\n",
       "      <td>13200</td>\n",
       "      <td>98</td>\n",
       "      <td>190</td>\n",
       "      <td>0</td>\n",
       "    </tr>\n",
       "    <tr>\n",
       "      <th>4</th>\n",
       "      <td>5</td>\n",
       "      <td>m</td>\n",
       "      <td>2/9/1955</td>\n",
       "      <td>15</td>\n",
       "      <td>1</td>\n",
       "      <td>45000</td>\n",
       "      <td>21000</td>\n",
       "      <td>98</td>\n",
       "      <td>138</td>\n",
       "      <td>0</td>\n",
       "    </tr>\n",
       "  </tbody>\n",
       "</table>\n",
       "</div>"
      ],
      "text/plain": [
       "   id gender      bdate  educ  jobcat  salary  salbegin  jobtime  prevexp  \\\n",
       "0   1      m   2/3/1952    15       3   57000     27000       98      144   \n",
       "1   2      m  5/23/1958    16       1   40200     18750       98       36   \n",
       "2   3      f  7/26/1929    12       1   21450     12000       98      381   \n",
       "3   4      f  4/15/1947     8       1   21900     13200       98      190   \n",
       "4   5      m   2/9/1955    15       1   45000     21000       98      138   \n",
       "\n",
       "   minority  \n",
       "0         0  \n",
       "1         0  \n",
       "2         0  \n",
       "3         0  \n",
       "4         0  "
      ]
     },
     "execution_count": 20,
     "metadata": {},
     "output_type": "execute_result"
    }
   ],
   "source": [
    "df = pd.read_csv(\"/Users/kaiyang/Desktop/employeedata.csv\")\n",
    "df.head(5)"
   ]
  },
  {
   "cell_type": "markdown",
   "id": "4cecc434-a2e3-4c85-b5fc-3f79cc03b8e6",
   "metadata": {},
   "source": [
    "## Central tendency"
   ]
  },
  {
   "cell_type": "markdown",
   "id": "17edd52d-57e4-4ee8-b8cc-4623cdb283be",
   "metadata": {},
   "source": [
    "### Appraoch 1: selecting a single column and calculate mean, median and mode"
   ]
  },
  {
   "cell_type": "code",
   "execution_count": 21,
   "id": "0e741e45-8ffb-4fb3-af3a-c6a3e557dfa5",
   "metadata": {},
   "outputs": [
    {
     "data": {
      "text/plain": [
       "0      57000\n",
       "1      40200\n",
       "2      21450\n",
       "3      21900\n",
       "4      45000\n",
       "       ...  \n",
       "469    26250\n",
       "470    26400\n",
       "471    39150\n",
       "472    21450\n",
       "473    29400\n",
       "Name: salary, Length: 474, dtype: int64"
      ]
     },
     "execution_count": 21,
     "metadata": {},
     "output_type": "execute_result"
    }
   ],
   "source": [
    "# Selecting a single column\n",
    "mydata1 = df['salary'] # Selecting \"salary\" colomn\n",
    "mydata1"
   ]
  },
  {
   "cell_type": "code",
   "execution_count": 22,
   "id": "c59e6454-2c27-460e-bdc9-ce64029885a2",
   "metadata": {},
   "outputs": [
    {
     "data": {
      "text/plain": [
       "34419.56751054852"
      ]
     },
     "execution_count": 22,
     "metadata": {},
     "output_type": "execute_result"
    }
   ],
   "source": [
    "# Calculating mean\n",
    "np.mean(mydata1)"
   ]
  },
  {
   "cell_type": "code",
   "execution_count": 23,
   "id": "be39be53-8987-4e88-b605-3e48bd759984",
   "metadata": {},
   "outputs": [
    {
     "data": {
      "text/plain": [
       "28875.0"
      ]
     },
     "execution_count": 23,
     "metadata": {},
     "output_type": "execute_result"
    }
   ],
   "source": [
    "# Calculating median\n",
    "np.median(mydata1)"
   ]
  },
  {
   "cell_type": "code",
   "execution_count": 24,
   "id": "374be95f-1bdb-4074-a9f7-ec47921e1ef0",
   "metadata": {},
   "outputs": [
    {
     "data": {
      "text/plain": [
       "30750"
      ]
     },
     "execution_count": 24,
     "metadata": {},
     "output_type": "execute_result"
    }
   ],
   "source": [
    "# Calculating mode\n",
    "from statistics import mode #Python does not have a particular code for detecting mode as mean and median\n",
    "mode(mydata1)"
   ]
  },
  {
   "cell_type": "markdown",
   "id": "5bc25adb-097d-4601-aaa5-304be185a539",
   "metadata": {},
   "source": [
    "### Appraoch 2: Directly calculate mean, median and mode for a single column"
   ]
  },
  {
   "cell_type": "code",
   "execution_count": 25,
   "id": "e48acdc3-cd80-486c-af6e-c1f972926bfa",
   "metadata": {},
   "outputs": [
    {
     "data": {
      "text/plain": [
       "34419.56751054852"
      ]
     },
     "execution_count": 25,
     "metadata": {},
     "output_type": "execute_result"
    }
   ],
   "source": [
    "# Calculating mean\n",
    "np.mean(df['salary'])"
   ]
  },
  {
   "cell_type": "code",
   "execution_count": 26,
   "id": "3509863b-470f-4497-bce5-a9164644ec42",
   "metadata": {},
   "outputs": [
    {
     "data": {
      "text/plain": [
       "28875.0"
      ]
     },
     "execution_count": 26,
     "metadata": {},
     "output_type": "execute_result"
    }
   ],
   "source": [
    "# Calculating median\n",
    "np.median(df['salary'])"
   ]
  },
  {
   "cell_type": "code",
   "execution_count": 27,
   "id": "49ed8221-31ef-4431-a96a-29c01c435b02",
   "metadata": {},
   "outputs": [
    {
     "data": {
      "text/plain": [
       "30750"
      ]
     },
     "execution_count": 27,
     "metadata": {},
     "output_type": "execute_result"
    }
   ],
   "source": [
    "# Calculating mode\n",
    "from statistics import mode\n",
    "mode(df['salary'])"
   ]
  },
  {
   "cell_type": "markdown",
   "id": "ab84d835-a58e-44ec-81bd-5ebeb7711b6c",
   "metadata": {},
   "source": [
    "## Dispersion"
   ]
  },
  {
   "cell_type": "markdown",
   "id": "14b958bc-1657-434a-9cdd-bdf16d7d8643",
   "metadata": {},
   "source": [
    "### 1. Range"
   ]
  },
  {
   "cell_type": "code",
   "execution_count": 28,
   "id": "0ec690c0-415e-4007-9c36-b4978c86696c",
   "metadata": {},
   "outputs": [
    {
     "data": {
      "text/plain": [
       "119250"
      ]
     },
     "execution_count": 28,
     "metadata": {},
     "output_type": "execute_result"
    }
   ],
   "source": [
    "np.max(mydata1)-np.min(mydata1) # Range is the difference betweeen the largest and smallest values"
   ]
  },
  {
   "cell_type": "markdown",
   "id": "7a701a25-93a8-4473-98c8-612f636eddf6",
   "metadata": {},
   "source": [
    "### 2. Quartile"
   ]
  },
  {
   "cell_type": "code",
   "execution_count": 29,
   "id": "b7088261-5ee6-4e96-b660-225a9765765c",
   "metadata": {},
   "outputs": [
    {
     "data": {
      "text/plain": [
       "24000.0"
      ]
     },
     "execution_count": 29,
     "metadata": {},
     "output_type": "execute_result"
    }
   ],
   "source": [
    "# First quartile \n",
    "Q1 = np.percentile(mydata1,25)\n",
    "Q1"
   ]
  },
  {
   "cell_type": "code",
   "execution_count": 30,
   "id": "bbbf040f-58ad-4556-acff-9decc4ec3619",
   "metadata": {},
   "outputs": [
    {
     "data": {
      "text/plain": [
       "28875.0"
      ]
     },
     "execution_count": 30,
     "metadata": {},
     "output_type": "execute_result"
    }
   ],
   "source": [
    "# Second quartile \n",
    "Q2 = np.percentile(mydata1,50)\n",
    "Q2"
   ]
  },
  {
   "cell_type": "code",
   "execution_count": 31,
   "id": "264a2560-215e-45d5-957e-334b07c91d12",
   "metadata": {},
   "outputs": [
    {
     "data": {
      "text/plain": [
       "36937.5"
      ]
     },
     "execution_count": 31,
     "metadata": {},
     "output_type": "execute_result"
    }
   ],
   "source": [
    "# Third quartile \n",
    "Q3 = np.percentile(mydata1,75)\n",
    "Q3"
   ]
  },
  {
   "cell_type": "markdown",
   "id": "a896ce1c-213f-44b0-ba07-a9a0885517a7",
   "metadata": {},
   "source": [
    "### 3. Interquartile range"
   ]
  },
  {
   "cell_type": "code",
   "execution_count": 32,
   "id": "456811ba-da99-4ba5-82b6-913af23bf450",
   "metadata": {},
   "outputs": [
    {
     "data": {
      "text/plain": [
       "12937.5"
      ]
     },
     "execution_count": 32,
     "metadata": {},
     "output_type": "execute_result"
    }
   ],
   "source": [
    "# Interquartile range = third quartile-first quartile\n",
    "IQR = Q3 - Q1\n",
    "IQR"
   ]
  },
  {
   "cell_type": "markdown",
   "id": "cbd7cdb6-30d9-4d35-9e73-919a637759c3",
   "metadata": {},
   "source": [
    "### 4. Variance"
   ]
  },
  {
   "cell_type": "code",
   "execution_count": 33,
   "id": "144ecd60-bb5a-4dcf-8e19-37cd4c37864c",
   "metadata": {},
   "outputs": [
    {
     "data": {
      "text/plain": [
       "290963070.54080117"
      ]
     },
     "execution_count": 33,
     "metadata": {},
     "output_type": "execute_result"
    }
   ],
   "source": [
    "np.var(mydata1)"
   ]
  },
  {
   "cell_type": "markdown",
   "id": "36e147af-880e-4bc4-921c-f797b1cb1578",
   "metadata": {},
   "source": [
    "### 5. Standard deviation"
   ]
  },
  {
   "cell_type": "code",
   "execution_count": 34,
   "id": "62485207-d9a2-452d-8218-4dcb6551b256",
   "metadata": {},
   "outputs": [
    {
     "data": {
      "text/plain": [
       "17057.63965326977"
      ]
     },
     "execution_count": 34,
     "metadata": {},
     "output_type": "execute_result"
    }
   ],
   "source": [
    "np.std(mydata1)"
   ]
  },
  {
   "cell_type": "markdown",
   "id": "099da922-926e-460f-8414-03715710f8d8",
   "metadata": {},
   "source": [
    "### 6. Visualization with boxplot"
   ]
  },
  {
   "cell_type": "code",
   "execution_count": 35,
   "id": "05e4e82f-ed57-4fb7-a53a-ad7c98094d37",
   "metadata": {},
   "outputs": [
    {
     "data": {
      "image/png": "[encoded data removed]",
      "text/plain": [
       "<Figure size 1000x800 with 1 Axes>"
      ]
     },
     "metadata": {},
     "output_type": "display_data"
    }
   ],
   "source": [
    "import matplotlib.pyplot as plt\n",
    "\n",
    "fig = plt.figure(figsize =(10, 8))\n",
    "\n",
    "plt.boxplot(mydata1)\n",
    "\n",
    "plt.show()"
   ]
  },
  {
   "cell_type": "markdown",
   "id": "029c37be-879d-4084-ab7c-09f00f3e879c",
   "metadata": {},
   "source": [
    "## Using data.describe() to see all these parameters"
   ]
  },
  {
   "cell_type": "code",
   "execution_count": 36,
   "id": "4891a48e-e4a1-473f-aab8-63ebc5f9e022",
   "metadata": {},
   "outputs": [
    {
     "data": {
      "text/plain": [
       "count       474.000000\n",
       "mean      34419.567511\n",
       "std       17075.661465\n",
       "min       15750.000000\n",
       "25%       24000.000000\n",
       "50%       28875.000000\n",
       "75%       36937.500000\n",
       "max      135000.000000\n",
       "Name: salary, dtype: float64"
      ]
     },
     "execution_count": 36,
     "metadata": {},
     "output_type": "execute_result"
    }
   ],
   "source": [
    "mydata1.describe()"
   ]
  },
  {
   "cell_type": "markdown",
   "id": "84974e89-d6ab-470f-b5d6-e455fed2df91",
   "metadata": {},
   "source": [
    "## The end, see you next week!"
   ]
  }
 ],
 "metadata": {
  "kernelspec": {
   "display_name": "base",
   "language": "python",
   "name": "python3"
  },
  "language_info": {
   "codemirror_mode": {
    "name": "ipython",
    "version": 3
   },
   "file_extension": ".py",
   "mimetype": "text/x-python",
   "name": "python",
   "nbconvert_exporter": "python",
   "pygments_lexer": "ipython3",
   "version": "3.12.7"
  }
 },
 "nbformat": 4,
 "nbformat_minor": 5
}
